{
 "cells": [
  {
   "cell_type": "code",
   "execution_count": 1,
   "metadata": {},
   "outputs": [],
   "source": [
    "import os\n",
    "import shutil\n"
   ]
  },
  {
   "cell_type": "markdown",
   "metadata": {},
   "source": [
    "## MIAS .pgm to .jpg conversion"
   ]
  },
  {
   "cell_type": "code",
   "execution_count": null,
   "metadata": {},
   "outputs": [
    {
     "name": "stdout",
     "output_type": "stream",
     "text": [
      "Conversion completed. JPG files are saved in /home/hamza/Desktop/MIAS/malignant\n"
     ]
    }
   ],
   "source": [
    "# import os\n",
    "# from PIL import Image\n",
    "\n",
    "# def convert_pgm_to_jpg(source_dir, dest_dir):\n",
    "#     os.makedirs(dest_dir, exist_ok=True)\n",
    "#     for root, _, files in os.walk(source_dir):\n",
    "#         for file in files:\n",
    "#             if file.lower().endswith('.pgm'):\n",
    "#                 pgm_path = os.path.join(root, file)\n",
    "#                 jpg_path = os.path.join(dest_dir, os.path.splitext(file)[0] + '.jpg')\n",
    "#                 with Image.open(pgm_path) as img:\n",
    "#                     img = img.convert('RGB')  # Convert to RGB mode\n",
    "#                     img.save(jpg_path, 'JPEG')\n",
    "#     print(f\"Conversion completed. JPG files are saved in {dest_dir}\")\n",
    "\n",
    "# # Example usage\n",
    "# source_pgm_dir = \"/home/hamza/Desktop/MIAS/Malignant\"\n",
    "# dest_jpg_dir = \"/home/hamza/Desktop/MIAS/malignant\"\n",
    "# convert_pgm_to_jpg(source_pgm_dir, dest_jpg_dir)"
   ]
  },
  {
   "cell_type": "code",
   "execution_count": null,
   "metadata": {},
   "outputs": [
    {
     "name": "stdout",
     "output_type": "stream",
     "text": [
      "Images transferred and renamed with subfolder prefix.\n"
     ]
    }
   ],
   "source": [
    "\n",
    "# Base directories\n",
    "source_base = '/home/hamza/Desktop/RMI DATA/sets'\n",
    "dest_base = '/home/hamza/Desktop/RMI DATA/flattened_jpg'\n",
    "\n",
    "# Target categories\n",
    "categories = ['Benign', 'Malignant', 'Normal']\n",
    "\n",
    "# Create destination folders\n",
    "for category in categories:\n",
    "    os.makedirs(os.path.join(dest_base, category), exist_ok=True)\n",
    "\n",
    "def collect_images():\n",
    "    for root, _, files in os.walk(source_base):\n",
    "        for file in files:\n",
    "            if file.lower().endswith(('.png', '.jpg', '.jpeg')):\n",
    "                # Identify class and source subfolder\n",
    "                path_parts = root.split(os.sep)\n",
    "                class_name = None\n",
    "                subfolder = path_parts[-1]  # Assumes last folder is like B4, M1, etc.\n",
    "\n",
    "                # Determine class based on path\n",
    "                if any('benign' in p.lower() for p in path_parts):\n",
    "                    class_name = 'Benign'\n",
    "                elif any('malignant' in p.lower() for p in path_parts):\n",
    "                    class_name = 'Malignant'\n",
    "                elif any('normal' in p.lower() for p in path_parts):\n",
    "                    class_name = 'Normal'\n",
    "                else:\n",
    "                    continue  # Skip unknown categories\n",
    "\n",
    "                # Construct new filename: e.g., B4-image1.jpg\n",
    "                name_prefix = subfolder\n",
    "                new_filename = f\"{name_prefix}-{file}\"\n",
    "\n",
    "                # Ensure unique filename\n",
    "                dest_dir = os.path.join(dest_base, class_name)\n",
    "                name, ext = os.path.splitext(new_filename)\n",
    "                counter = 1\n",
    "                final_filename = new_filename\n",
    "                while os.path.exists(os.path.join(dest_dir, final_filename)):\n",
    "                    final_filename = f\"{name}_{counter}{ext}\"\n",
    "                    counter += 1\n",
    "\n",
    "                src_path = os.path.join(root, file)\n",
    "                dest_path = os.path.join(dest_dir, final_filename)\n",
    "                shutil.copy(src_path, dest_path)\n",
    "\n",
    "collect_images()\n",
    "print(\"Images transferred and renamed with subfolder prefix.\")\n"
   ]
  },
  {
   "cell_type": "code",
   "execution_count": 3,
   "metadata": {},
   "outputs": [
    {
     "name": "stderr",
     "output_type": "stream",
     "text": [
      "2025-04-17 03:05:36.376937: E external/local_xla/xla/stream_executor/cuda/cuda_fft.cc:477] Unable to register cuFFT factory: Attempting to register factory for plugin cuFFT when one has already been registered\n",
      "WARNING: All log messages before absl::InitializeLog() is called are written to STDERR\n",
      "E0000 00:00:1744841136.494873    4292 cuda_dnn.cc:8310] Unable to register cuDNN factory: Attempting to register factory for plugin cuDNN when one has already been registered\n",
      "E0000 00:00:1744841136.527769    4292 cuda_blas.cc:1418] Unable to register cuBLAS factory: Attempting to register factory for plugin cuBLAS when one has already been registered\n",
      "2025-04-17 03:05:36.863959: I tensorflow/core/platform/cpu_feature_guard.cc:210] This TensorFlow binary is optimized to use available CPU instructions in performance-critical operations.\n",
      "To enable the following instructions: AVX2 FMA, in other operations, rebuild TensorFlow with the appropriate compiler flags.\n"
     ]
    }
   ],
   "source": [
    "# Cell 1: Import Required Libraries\n",
    "import os\n",
    "import numpy as np\n",
    "from PIL import Image\n",
    "from tensorflow.keras.preprocessing.image import ImageDataGenerator, img_to_array, array_to_img, load_img\n",
    "from sklearn.model_selection import train_test_split\n",
    "import shutil\n"
   ]
  },
  {
   "cell_type": "code",
   "execution_count": 4,
   "metadata": {},
   "outputs": [],
   "source": [
    "import os\n",
    "# Cell 2: Define Paths\n",
    "benign_dir = \"/home/hamza/Desktop/RMI DATA/flattened_jpg/Benign\"\n",
    "malignant_dir = \"/home/hamza/Desktop/RMI DATA/flattened_jpg/Malignant\"\n",
    "augment_output_dir_b = \"/home/hamza/Desktop/RMI DATA/augmented_jpg/Benign\"\n",
    "augment_output_dir_m = \"/home/hamza/Desktop/RMI DATA/augmented_jpg/Malignant\"\n",
    "os.makedirs(augment_output_dir_b, exist_ok=True)\n",
    "os.makedirs(augment_output_dir_m, exist_ok=True)\n"
   ]
  },
  {
   "cell_type": "code",
   "execution_count": 6,
   "metadata": {},
   "outputs": [],
   "source": [
    "# Cell 3: Get images that start with specific prefixes and have valid image extensions\n",
    "image_files_b = [f for f in os.listdir(benign_dir) if f.startswith(('B','N','m')) and f.lower().endswith(('.jpg', '.jpeg', '.png'))]\n",
    "image_files_m = [f for f in os.listdir(malignant_dir) if f.startswith(('P','m')) and f.lower().endswith(('.jpg', '.jpeg', '.png'))]\n"
   ]
  },
  {
   "cell_type": "code",
   "execution_count": 7,
   "metadata": {},
   "outputs": [
    {
     "name": "stdout",
     "output_type": "stream",
     "text": [
      "Generated 100 augmented images\n"
     ]
    }
   ],
   "source": [
    "from tensorflow.keras.preprocessing.image import ImageDataGenerator, img_to_array, load_img\n",
    "import os\n",
    "import numpy as np\n",
    "import random\n",
    "\n",
    "# Initialize random seeds\n",
    "random.seed(42)\n",
    "np.random.seed(42)\n",
    "\n",
    "# Enhanced Data Generator\n",
    "\n",
    "datagen = ImageDataGenerator(\n",
    "    rotation_range=10,             # Small rotations to simulate patient positioning variance\n",
    "    width_shift_range=0.05,        # Mild shift (no heavy displacement)\n",
    "    height_shift_range=0.05,\n",
    "    shear_range=0.05,              # Very light shear to simulate compression\n",
    "    zoom_range=0.1,                # Slight zoom, avoids cutting off edges\n",
    "    horizontal_flip=True,          # Useful because left/right breast symmetry is okay\n",
    "    vertical_flip=False,           # Not realistic in clinical settings\n",
    "    brightness_range=[0.9, 1.1],   # Slight changes only\n",
    "    fill_mode='nearest'            # Avoids artifacts at borders\n",
    ")\n",
    "\n",
    "\n",
    "# Initialize counter\n",
    "augmented_count = 0\n",
    "target_count = 100\n",
    "\n",
    "# Calculate how many augmentations per original image\n",
    "aug_per_image = max(1, target_count // len(image_files_b))\n",
    "\n",
    "# Modified augmentation loop\n",
    "for img_name in image_files_b:\n",
    "    if augmented_count >= target_count:\n",
    "        break\n",
    "        \n",
    "    img_path = os.path.join(benign_dir, img_name)\n",
    "    img = load_img(img_path)\n",
    "    x = img_to_array(img)\n",
    "    x = np.expand_dims(x, axis=0)  # Add batch dimension\n",
    "    \n",
    "    # Generate unique prefix\n",
    "    prefix = os.path.splitext(img_name)[0] + f'_{random.randint(1000,9999)}'\n",
    "    \n",
    "    # Configure flow\n",
    "    gen = datagen.flow(\n",
    "        x,\n",
    "        batch_size=1,\n",
    "        save_to_dir=augment_output_dir_b,\n",
    "        save_prefix=prefix,\n",
    "        save_format='jpg',\n",
    "        shuffle=True,\n",
    "        seed=random.randint(1, 1000)\n",
    "    )\n",
    "    \n",
    "    # Generate augmentations for this image\n",
    "    for _ in range(aug_per_image):\n",
    "        if augmented_count >= target_count:\n",
    "            break\n",
    "        next(gen)\n",
    "        augmented_count += 1\n",
    "    \n",
    "    del gen\n",
    "\n",
    "# Handle remainder if target_count isn't divisible by aug_per_image\n",
    "remaining = target_count - augmented_count\n",
    "if remaining > 0:\n",
    "    # Distribute remaining augmentations across random images\n",
    "    for img_name in random.sample(image_files_b, remaining):\n",
    "        img_path = os.path.join(malignant_dir, img_name)\n",
    "        img = load_img(img_path)\n",
    "        x = img_to_array(img)\n",
    "        x = np.expand_dims(x, axis=0)\n",
    "        \n",
    "        prefix = os.path.splitext(img_name)[0] + f'_{random.randint(1000,9999)}'\n",
    "        gen = datagen.flow(\n",
    "            x,\n",
    "            batch_size=1,\n",
    "            save_to_dir=augment_output_dir_b,\n",
    "            save_prefix=prefix,\n",
    "            save_format='jpg',\n",
    "            shuffle=True,\n",
    "            seed=random.randint(1, 1000)\n",
    "        )\n",
    "        next(gen)\n",
    "        augmented_count += 1\n",
    "        del gen\n",
    "\n",
    "print(f\"Generated {augmented_count} augmented images\")"
   ]
  },
  {
   "cell_type": "code",
   "execution_count": 8,
   "metadata": {},
   "outputs": [
    {
     "name": "stdout",
     "output_type": "stream",
     "text": [
      "Generated 100 augmented images\n"
     ]
    }
   ],
   "source": [
    "from tensorflow.keras.preprocessing.image import ImageDataGenerator, img_to_array, load_img\n",
    "import os\n",
    "import numpy as np\n",
    "import random\n",
    "\n",
    "# Initialize random seeds\n",
    "random.seed(42)\n",
    "np.random.seed(42)\n",
    "\n",
    "# Enhanced Data Generator\n",
    "\n",
    "datagen = ImageDataGenerator(\n",
    "    rotation_range=10,             # Small rotations to simulate patient positioning variance\n",
    "    width_shift_range=0.05,        # Mild shift (no heavy displacement)\n",
    "    height_shift_range=0.05,\n",
    "    shear_range=0.05,              # Very light shear to simulate compression\n",
    "    zoom_range=0.1,                # Slight zoom, avoids cutting off edges\n",
    "    horizontal_flip=True,          # Useful because left/right breast symmetry is okay\n",
    "    vertical_flip=False,           # Not realistic in clinical settings\n",
    "    brightness_range=[0.9, 1.1],   # Slight changes only\n",
    "    fill_mode='nearest'            # Avoids artifacts at borders\n",
    ")\n",
    "\n",
    "\n",
    "# Initialize counter\n",
    "augmented_count = 0\n",
    "target_count = 100\n",
    "\n",
    "# Calculate how many augmentations per original image\n",
    "aug_per_image = max(1, target_count // len(image_files_m))\n",
    "\n",
    "# Modified augmentation loop\n",
    "for img_name in image_files_m:\n",
    "    if augmented_count >= target_count:\n",
    "        break\n",
    "        \n",
    "    img_path = os.path.join(malignant_dir, img_name)\n",
    "    img = load_img(img_path)\n",
    "    x = img_to_array(img)\n",
    "    x = np.expand_dims(x, axis=0)  # Add batch dimension\n",
    "    \n",
    "    # Generate unique prefix\n",
    "    prefix = os.path.splitext(img_name)[0] + f'_{random.randint(1000,9999)}'\n",
    "    \n",
    "    # Configure flow\n",
    "    gen = datagen.flow(\n",
    "        x,\n",
    "        batch_size=1,\n",
    "        save_to_dir=augment_output_dir_m,\n",
    "        save_prefix=prefix,\n",
    "        save_format='jpg',\n",
    "        shuffle=True,\n",
    "        seed=random.randint(1, 1000)\n",
    "    )\n",
    "    \n",
    "    # Generate augmentations for this image\n",
    "    for _ in range(aug_per_image):\n",
    "        if augmented_count >= target_count:\n",
    "            break\n",
    "        next(gen)\n",
    "        augmented_count += 1\n",
    "    \n",
    "    del gen\n",
    "\n",
    "# Handle remainder if target_count isn't divisible by aug_per_image\n",
    "remaining = target_count - augmented_count\n",
    "if remaining > 0:\n",
    "    # Distribute remaining augmentations across random images\n",
    "    for img_name in random.sample(image_files_m, remaining):\n",
    "        img_path = os.path.join(malignant_dir, img_name)\n",
    "        img = load_img(img_path)\n",
    "        x = img_to_array(img)\n",
    "        x = np.expand_dims(x, axis=0)\n",
    "        \n",
    "        prefix = os.path.splitext(img_name)[0] + f'_{random.randint(1000,9999)}'\n",
    "        gen = datagen.flow(\n",
    "            x,\n",
    "            batch_size=1,\n",
    "            save_to_dir=augment_output_dir_m,\n",
    "            save_prefix=prefix,\n",
    "            save_format='jpg',\n",
    "            shuffle=True,\n",
    "            seed=random.randint(1, 1000)\n",
    "        )\n",
    "        next(gen)\n",
    "        augmented_count += 1\n",
    "        del gen\n",
    "\n",
    "print(f\"Generated {augmented_count} augmented images\")"
   ]
  },
  {
   "cell_type": "code",
   "execution_count": null,
   "metadata": {},
   "outputs": [],
   "source": [
    "# # Cell 6: Combine benign original + augmented into a final folder\n",
    "# import shutil\n",
    "\n",
    "# final_benign_dir = \"/home/hamza/Desktop/RMI DATA/final_dataset/Benign\"\n",
    "# final_malignant_dir = \"/home/hamza/Desktop/RMI DATA/final_dataset/Malignant\"\n",
    "\n",
    "# os.makedirs(final_benign_dir, exist_ok=True)\n",
    "# os.makedirs(final_malignant_dir, exist_ok=True)\n",
    "\n",
    "# # Copy original benign\n",
    "# for f in os.listdir(benign_dir):\n",
    "#     if f.lower().endswith(('.jpg', '.jpeg', '.png', 'pgm')):\n",
    "#         shutil.copy(os.path.join(benign_dir, f), final_benign_dir)\n",
    "\n",
    "# # Copy augmented malignant\n",
    "# for f in os.listdir(augment_output_dir):\n",
    "#     shutil.copy(os.path.join(augment_output_dir, f), final_malignant_dir)\n",
    "\n",
    "# # Copy malignant\n",
    "# for f in os.listdir(malignant_dir):\n",
    "#     if f.lower().endswith(('.jpg', '.jpeg', '.png', 'pgm')):\n",
    "#         shutil.copy(os.path.join(malignant_dir, f), final_malignant_dir)\n"
   ]
  },
  {
   "cell_type": "code",
   "execution_count": 9,
   "metadata": {},
   "outputs": [],
   "source": [
    "# Cell 6: Combine benign original + augmented into a final folder\n",
    "import shutil\n",
    "\n",
    "final_benign_dir = \"/home/hamza/Desktop/RMI DATA/final_dataset_jpg/Benign\"\n",
    "final_malignant_dir = \"/home/hamza/Desktop/RMI DATA/final_dataset_jpg/Malignant\"\n",
    "\n",
    "os.makedirs(final_benign_dir, exist_ok=True)\n",
    "os.makedirs(final_malignant_dir, exist_ok=True)\n",
    "\n",
    "# Copy original benign\n",
    "for f in os.listdir(benign_dir):\n",
    "    if f.lower().endswith(('.jpg', '.jpeg', '.png')):\n",
    "        shutil.copy(os.path.join(benign_dir, f), final_benign_dir)\n",
    "\n",
    "# Copy augmented benign\n",
    "for f in os.listdir(augment_output_dir_b):\n",
    "    shutil.copy(os.path.join(augment_output_dir_b, f), final_benign_dir)\n",
    "\n",
    "# Copy malignant\n",
    "for f in os.listdir(malignant_dir):\n",
    "    if f.lower().endswith(('.jpg', '.jpeg', '.png')):\n",
    "        shutil.copy(os.path.join(malignant_dir, f), final_malignant_dir)\n",
    "\n",
    "# Copy augmented malignant\n",
    "for f in os.listdir(augment_output_dir_m):\n",
    "    shutil.copy(os.path.join(augment_output_dir_m, f), final_malignant_dir)\n"
   ]
  },
  {
   "cell_type": "code",
   "execution_count": null,
   "metadata": {},
   "outputs": [],
   "source": [
    "# # Cell 7: Split dataset for train, val, test using folders\n",
    "# from sklearn.model_selection import train_test_split\n",
    "\n",
    "# def split_data_to_subfolders(source_dir, dest_base_dir, class_name, test_size=0.1, val_size=0.1):\n",
    "#     image_paths = [os.path.join(source_dir, f) for f in os.listdir(source_dir)\n",
    "#                    if f.lower().endswith(('.jpg', '.jpeg', '.png','.pgm'))]\n",
    "\n",
    "#     train_val, test = train_test_split(image_paths, test_size=test_size, random_state=42)\n",
    "#     train, val = train_test_split(train_val, test_size=val_size / (1 - test_size), random_state=42)\n",
    "\n",
    "#     def copy_to(subset_name, paths):\n",
    "#         dest_dir = os.path.join(dest_base_dir, subset_name, class_name)\n",
    "#         os.makedirs(dest_dir, exist_ok=True)\n",
    "#         for path in paths:\n",
    "#             shutil.copy(path, dest_dir)\n",
    "\n",
    "#     copy_to(\"train\", train)\n",
    "#     copy_to(\"val\", val)\n",
    "#     copy_to(\"test\", test)\n",
    "\n",
    "# # Output split dir\n",
    "# split_base_dir = \"/home/hamza/Desktop/RMI DATA/split_dataset\"\n",
    "\n",
    "# # For both classes\n",
    "# split_data_to_subfolders(final_benign_dir, split_base_dir, \"Benign\")\n",
    "# split_data_to_subfolders(final_malignant_dir, split_base_dir, \"Malignant\")\n"
   ]
  },
  {
   "cell_type": "code",
   "execution_count": 27,
   "metadata": {},
   "outputs": [],
   "source": [
    "# Cell 7: Split dataset for train, val, test using folders\n",
    "from sklearn.model_selection import train_test_split\n",
    "\n",
    "def split_data_to_subfolders(source_dir, dest_base_dir, class_name, test_size=0.1, val_size=0.1):\n",
    "    image_paths = [os.path.join(source_dir, f) for f in os.listdir(source_dir)\n",
    "                   if f.lower().endswith(('.jpg', '.jpeg', '.png',))]\n",
    "\n",
    "    train_val, test = train_test_split(image_paths, test_size=test_size, random_state=42)\n",
    "    train, val = train_test_split(train_val, test_size=val_size / (1 - test_size), random_state=42)\n",
    "\n",
    "    def copy_to(subset_name, paths):\n",
    "        dest_dir = os.path.join(dest_base_dir, subset_name, class_name)\n",
    "        os.makedirs(dest_dir, exist_ok=True)\n",
    "        for path in paths:\n",
    "            shutil.copy(path, dest_dir)\n",
    "\n",
    "    copy_to(\"train\", train)\n",
    "    copy_to(\"val\", val)\n",
    "    copy_to(\"test\", test)\n",
    "\n",
    "# Output split dir\n",
    "split_base_dir = \"/home/hamza/Desktop/RMI DATA/split_dataset_jpg\"\n",
    "\n",
    "# For both classes\n",
    "split_data_to_subfolders(final_benign_dir, split_base_dir, \"Benign\")\n",
    "split_data_to_subfolders(final_malignant_dir, split_base_dir, \"Malignant\")"
   ]
  },
  {
   "cell_type": "code",
   "execution_count": 1,
   "metadata": {},
   "outputs": [],
   "source": [
    "split_base_dir = \"/home/hamza/Desktop/RMI DATA/split_dataset_jpg\""
   ]
  },
  {
   "cell_type": "code",
   "execution_count": 26,
   "metadata": {},
   "outputs": [
    {
     "name": "stdout",
     "output_type": "stream",
     "text": [
      "TensorFlow session cleared.\n"
     ]
    }
   ],
   "source": [
    "from tensorflow.keras.backend import clear_session\n",
    "\n",
    "# Clear TensorFlow session\n",
    "clear_session()\n",
    "print(\"TensorFlow session cleared.\")"
   ]
  },
  {
   "cell_type": "code",
   "execution_count": 27,
   "metadata": {},
   "outputs": [
    {
     "data": {
      "text/plain": [
       "0"
      ]
     },
     "execution_count": 27,
     "metadata": {},
     "output_type": "execute_result"
    }
   ],
   "source": [
    "import gc\n",
    "\n",
    "gc.collect()"
   ]
  },
  {
   "cell_type": "code",
   "execution_count": 6,
   "metadata": {},
   "outputs": [
    {
     "name": "stdout",
     "output_type": "stream",
     "text": [
      "Found 616 images belonging to 2 classes.\n",
      "Found 78 images belonging to 2 classes.\n",
      "Found 78 images belonging to 2 classes.\n"
     ]
    }
   ],
   "source": [
    "# Cell 8: Define image generators for train, val, and test\n",
    "\n",
    "import os\n",
    "from tensorflow.keras.preprocessing.image import ImageDataGenerator\n",
    "\n",
    "img_size = (224, 224)\n",
    "batch_size = 32\n",
    "\n",
    "# Data generators\n",
    "train_datagen = ImageDataGenerator(rescale=1./255,    rotation_range=10,             # Small rotations to simulate patient positioning variance\n",
    "    width_shift_range=0.05,        # Mild shift (no heavy displacement)\n",
    "    height_shift_range=0.05,\n",
    "    shear_range=0.05,              # Very light shear to simulate compression\n",
    "    zoom_range=0.1,                # Slight zoom, avoids cutting off edges\n",
    "    horizontal_flip=True,          # Useful because left/right breast symmetry is okay\n",
    "    vertical_flip=False,           # Not realistic in clinical settings\n",
    "    brightness_range=[0.9, 1.1],   # Slight changes only\n",
    "    fill_mode='nearest')\n",
    "val_datagen = ImageDataGenerator(rescale=1./255)\n",
    "test_datagen = ImageDataGenerator(rescale=1./255)\n",
    "\n",
    "train_gen = train_datagen.flow_from_directory(\n",
    "    os.path.join(split_base_dir, \"train\"),\n",
    "    target_size=img_size,\n",
    "    batch_size=batch_size,\n",
    "    class_mode='categorical',  # To enable categorical class labels\n",
    "    shuffle=True\n",
    ")\n",
    "\n",
    "val_gen = val_datagen.flow_from_directory(\n",
    "    os.path.join(split_base_dir, \"val\"),\n",
    "    target_size=img_size,\n",
    "    batch_size=batch_size,\n",
    "    class_mode='categorical',  # To enable categorical class labels\n",
    "    shuffle=False\n",
    ")\n",
    "\n",
    "test_gen = test_datagen.flow_from_directory(\n",
    "    os.path.join(split_base_dir, \"test\"),\n",
    "    target_size=img_size,\n",
    "    batch_size=batch_size,\n",
    "    class_mode='categorical',  # To enable categorical class labels\n",
    "    shuffle=False\n",
    ")\n",
    "\n",
    "\n"
   ]
  },
  {
   "cell_type": "code",
   "execution_count": 28,
   "metadata": {},
   "outputs": [
    {
     "name": "stderr",
     "output_type": "stream",
     "text": [
      "WARNING:absl:Compiled the loaded model, but the compiled metrics have yet to be built. `model.compile_metrics` will be empty until you train or evaluate the model.\n"
     ]
    }
   ],
   "source": [
    "from tensorflow.keras.models import load_model\n",
    "from tensorflow.keras.optimizers import Adam\n",
    "from tensorflow.keras.callbacks import EarlyStopping\n",
    "\n",
    "# Load the model (update the path to your file)\n",
    "model = load_model(\"/home/hamza/Downloads/public_dataset_colab_using_class_weights.h5\")\n"
   ]
  },
  {
   "cell_type": "code",
   "execution_count": 29,
   "metadata": {},
   "outputs": [],
   "source": [
    "# Compile the model\n",
    "initial_learning_rate = 0.00001\n",
    "model.compile(\n",
    "    optimizer=Adam(learning_rate=initial_learning_rate),\n",
    "    loss='categorical_crossentropy',\n",
    "    metrics=['accuracy']\n",
    ")\n",
    "\n",
    "# Early stopping\n",
    "early_stopping = EarlyStopping(monitor='val_loss', patience=15, restore_best_weights=True)\n"
   ]
  },
  {
   "cell_type": "code",
   "execution_count": 30,
   "metadata": {},
   "outputs": [
    {
     "name": "stdout",
     "output_type": "stream",
     "text": [
      "Epoch 1/50\n",
      "\u001b[1m19/19\u001b[0m \u001b[32m━━━━━━━━━━━━━━━━━━━━\u001b[0m\u001b[37m\u001b[0m \u001b[1m63s\u001b[0m 1s/step - accuracy: 0.5565 - loss: 3.3601 - val_accuracy: 0.6094 - val_loss: 2.7994\n",
      "Epoch 2/50\n",
      "\u001b[1m 1/19\u001b[0m \u001b[32m━\u001b[0m\u001b[37m━━━━━━━━━━━━━━━━━━━\u001b[0m \u001b[1m2s\u001b[0m 157ms/step - accuracy: 0.6875 - loss: 3.1961"
     ]
    },
    {
     "name": "stderr",
     "output_type": "stream",
     "text": [
      "/home/hamza/miniconda3/envs/tf/lib/python3.12/site-packages/keras/src/trainers/epoch_iterator.py:107: UserWarning: Your input ran out of data; interrupting training. Make sure that your dataset or generator can generate at least `steps_per_epoch * epochs` batches. You may need to use the `.repeat()` function when building your dataset.\n",
      "  self._interrupted_warning()\n"
     ]
    },
    {
     "name": "stdout",
     "output_type": "stream",
     "text": [
      "\u001b[1m19/19\u001b[0m \u001b[32m━━━━━━━━━━━━━━━━━━━━\u001b[0m\u001b[37m\u001b[0m \u001b[1m0s\u001b[0m 19ms/step - accuracy: 0.6875 - loss: 3.1961 - val_accuracy: 0.6094 - val_loss: 2.7833\n",
      "Epoch 3/50\n",
      "\u001b[1m19/19\u001b[0m \u001b[32m━━━━━━━━━━━━━━━━━━━━\u001b[0m\u001b[37m\u001b[0m \u001b[1m6s\u001b[0m 296ms/step - accuracy: 0.6537 - loss: 2.8877 - val_accuracy: 0.7188 - val_loss: 2.6299\n",
      "Epoch 4/50\n",
      "\u001b[1m19/19\u001b[0m \u001b[32m━━━━━━━━━━━━━━━━━━━━\u001b[0m\u001b[37m\u001b[0m \u001b[1m0s\u001b[0m 19ms/step - accuracy: 0.5000 - loss: 3.2252 - val_accuracy: 0.7188 - val_loss: 2.6284\n",
      "Epoch 5/50\n",
      "\u001b[1m19/19\u001b[0m \u001b[32m━━━━━━━━━━━━━━━━━━━━\u001b[0m\u001b[37m\u001b[0m \u001b[1m6s\u001b[0m 290ms/step - accuracy: 0.6424 - loss: 2.6930 - val_accuracy: 0.6875 - val_loss: 2.5728\n",
      "Epoch 6/50\n",
      "\u001b[1m19/19\u001b[0m \u001b[32m━━━━━━━━━━━━━━━━━━━━\u001b[0m\u001b[37m\u001b[0m \u001b[1m0s\u001b[0m 18ms/step - accuracy: 0.5312 - loss: 2.9693 - val_accuracy: 0.6875 - val_loss: 2.5697\n",
      "Epoch 7/50\n",
      "\u001b[1m19/19\u001b[0m \u001b[32m━━━━━━━━━━━━━━━━━━━━\u001b[0m\u001b[37m\u001b[0m \u001b[1m6s\u001b[0m 304ms/step - accuracy: 0.6265 - loss: 2.6304 - val_accuracy: 0.6562 - val_loss: 2.5489\n",
      "Epoch 8/50\n",
      "\u001b[1m19/19\u001b[0m \u001b[32m━━━━━━━━━━━━━━━━━━━━\u001b[0m\u001b[37m\u001b[0m \u001b[1m0s\u001b[0m 14ms/step - accuracy: 0.6562 - loss: 2.6248 - val_accuracy: 0.6719 - val_loss: 2.5491\n",
      "Epoch 9/50\n",
      "\u001b[1m19/19\u001b[0m \u001b[32m━━━━━━━━━━━━━━━━━━━━\u001b[0m\u001b[37m\u001b[0m \u001b[1m6s\u001b[0m 287ms/step - accuracy: 0.6531 - loss: 2.6262 - val_accuracy: 0.6719 - val_loss: 2.5424\n",
      "Epoch 10/50\n",
      "\u001b[1m19/19\u001b[0m \u001b[32m━━━━━━━━━━━━━━━━━━━━\u001b[0m\u001b[37m\u001b[0m \u001b[1m0s\u001b[0m 14ms/step - accuracy: 0.7188 - loss: 2.5325 - val_accuracy: 0.6562 - val_loss: 2.5426\n",
      "Epoch 11/50\n",
      "\u001b[1m19/19\u001b[0m \u001b[32m━━━━━━━━━━━━━━━━━━━━\u001b[0m\u001b[37m\u001b[0m \u001b[1m6s\u001b[0m 294ms/step - accuracy: 0.6710 - loss: 2.5599 - val_accuracy: 0.6875 - val_loss: 2.4954\n",
      "Epoch 12/50\n",
      "\u001b[1m19/19\u001b[0m \u001b[32m━━━━━━━━━━━━━━━━━━━━\u001b[0m\u001b[37m\u001b[0m \u001b[1m0s\u001b[0m 19ms/step - accuracy: 0.5000 - loss: 2.6597 - val_accuracy: 0.6875 - val_loss: 2.4941\n",
      "Epoch 13/50\n",
      "\u001b[1m19/19\u001b[0m \u001b[32m━━━━━━━━━━━━━━━━━━━━\u001b[0m\u001b[37m\u001b[0m \u001b[1m6s\u001b[0m 305ms/step - accuracy: 0.6858 - loss: 2.4722 - val_accuracy: 0.7188 - val_loss: 2.4696\n",
      "Epoch 14/50\n",
      "\u001b[1m19/19\u001b[0m \u001b[32m━━━━━━━━━━━━━━━━━━━━\u001b[0m\u001b[37m\u001b[0m \u001b[1m0s\u001b[0m 19ms/step - accuracy: 0.8750 - loss: 2.2983 - val_accuracy: 0.7188 - val_loss: 2.4686\n",
      "Epoch 15/50\n",
      "\u001b[1m19/19\u001b[0m \u001b[32m━━━━━━━━━━━━━━━━━━━━\u001b[0m\u001b[37m\u001b[0m \u001b[1m6s\u001b[0m 303ms/step - accuracy: 0.7106 - loss: 2.4490 - val_accuracy: 0.7344 - val_loss: 2.4205\n",
      "Epoch 16/50\n",
      "\u001b[1m19/19\u001b[0m \u001b[32m━━━━━━━━━━━━━━━━━━━━\u001b[0m\u001b[37m\u001b[0m \u001b[1m0s\u001b[0m 16ms/step - accuracy: 0.5625 - loss: 2.4817 - val_accuracy: 0.7344 - val_loss: 2.4208\n",
      "Epoch 17/50\n",
      "\u001b[1m19/19\u001b[0m \u001b[32m━━━━━━━━━━━━━━━━━━━━\u001b[0m\u001b[37m\u001b[0m \u001b[1m6s\u001b[0m 301ms/step - accuracy: 0.7207 - loss: 2.3890 - val_accuracy: 0.7188 - val_loss: 2.3849\n",
      "Epoch 18/50\n",
      "\u001b[1m19/19\u001b[0m \u001b[32m━━━━━━━━━━━━━━━━━━━━\u001b[0m\u001b[37m\u001b[0m \u001b[1m0s\u001b[0m 18ms/step - accuracy: 0.6250 - loss: 2.4584 - val_accuracy: 0.7344 - val_loss: 2.3823\n",
      "Epoch 19/50\n",
      "\u001b[1m19/19\u001b[0m \u001b[32m━━━━━━━━━━━━━━━━━━━━\u001b[0m\u001b[37m\u001b[0m \u001b[1m6s\u001b[0m 303ms/step - accuracy: 0.7127 - loss: 2.3757 - val_accuracy: 0.7500 - val_loss: 2.3577\n",
      "Epoch 20/50\n",
      "\u001b[1m19/19\u001b[0m \u001b[32m━━━━━━━━━━━━━━━━━━━━\u001b[0m\u001b[37m\u001b[0m \u001b[1m0s\u001b[0m 19ms/step - accuracy: 0.8125 - loss: 2.1914 - val_accuracy: 0.7344 - val_loss: 2.3547\n",
      "Epoch 21/50\n",
      "\u001b[1m19/19\u001b[0m \u001b[32m━━━━━━━━━━━━━━━━━━━━\u001b[0m\u001b[37m\u001b[0m \u001b[1m6s\u001b[0m 301ms/step - accuracy: 0.6928 - loss: 2.3737 - val_accuracy: 0.7500 - val_loss: 2.3352\n",
      "Epoch 22/50\n",
      "\u001b[1m19/19\u001b[0m \u001b[32m━━━━━━━━━━━━━━━━━━━━\u001b[0m\u001b[37m\u001b[0m \u001b[1m0s\u001b[0m 19ms/step - accuracy: 0.7500 - loss: 2.2747 - val_accuracy: 0.7500 - val_loss: 2.3316\n",
      "Epoch 23/50\n",
      "\u001b[1m19/19\u001b[0m \u001b[32m━━━━━━━━━━━━━━━━━━━━\u001b[0m\u001b[37m\u001b[0m \u001b[1m6s\u001b[0m 302ms/step - accuracy: 0.6966 - loss: 2.3496 - val_accuracy: 0.7500 - val_loss: 2.3052\n",
      "Epoch 24/50\n",
      "\u001b[1m19/19\u001b[0m \u001b[32m━━━━━━━━━━━━━━━━━━━━\u001b[0m\u001b[37m\u001b[0m \u001b[1m0s\u001b[0m 14ms/step - accuracy: 0.6562 - loss: 2.5081 - val_accuracy: 0.7500 - val_loss: 2.3075\n",
      "Epoch 25/50\n",
      "\u001b[1m19/19\u001b[0m \u001b[32m━━━━━━━━━━━━━━━━━━━━\u001b[0m\u001b[37m\u001b[0m \u001b[1m6s\u001b[0m 295ms/step - accuracy: 0.7652 - loss: 2.2576 - val_accuracy: 0.7031 - val_loss: 2.2817\n",
      "Epoch 26/50\n",
      "\u001b[1m19/19\u001b[0m \u001b[32m━━━━━━━━━━━━━━━━━━━━\u001b[0m\u001b[37m\u001b[0m \u001b[1m0s\u001b[0m 18ms/step - accuracy: 0.7188 - loss: 2.2150 - val_accuracy: 0.6875 - val_loss: 2.2803\n",
      "Epoch 27/50\n",
      "\u001b[1m19/19\u001b[0m \u001b[32m━━━━━━━━━━━━━━━━━━━━\u001b[0m\u001b[37m\u001b[0m \u001b[1m6s\u001b[0m 305ms/step - accuracy: 0.7646 - loss: 2.2177 - val_accuracy: 0.7188 - val_loss: 2.2570\n",
      "Epoch 28/50\n",
      "\u001b[1m19/19\u001b[0m \u001b[32m━━━━━━━━━━━━━━━━━━━━\u001b[0m\u001b[37m\u001b[0m \u001b[1m0s\u001b[0m 19ms/step - accuracy: 0.6562 - loss: 2.3740 - val_accuracy: 0.7344 - val_loss: 2.2570\n",
      "Epoch 29/50\n",
      "\u001b[1m19/19\u001b[0m \u001b[32m━━━━━━━━━━━━━━━━━━━━\u001b[0m\u001b[37m\u001b[0m \u001b[1m6s\u001b[0m 300ms/step - accuracy: 0.7512 - loss: 2.2195 - val_accuracy: 0.7969 - val_loss: 2.2408\n",
      "Epoch 30/50\n",
      "\u001b[1m19/19\u001b[0m \u001b[32m━━━━━━━━━━━━━━━━━━━━\u001b[0m\u001b[37m\u001b[0m \u001b[1m1s\u001b[0m 20ms/step - accuracy: 0.7812 - loss: 2.1242 - val_accuracy: 0.7969 - val_loss: 2.2396\n",
      "Epoch 31/50\n",
      "\u001b[1m19/19\u001b[0m \u001b[32m━━━━━━━━━━━━━━━━━━━━\u001b[0m\u001b[37m\u001b[0m \u001b[1m6s\u001b[0m 329ms/step - accuracy: 0.7868 - loss: 2.1789 - val_accuracy: 0.8125 - val_loss: 2.2320\n",
      "Epoch 32/50\n",
      "\u001b[1m19/19\u001b[0m \u001b[32m━━━━━━━━━━━━━━━━━━━━\u001b[0m\u001b[37m\u001b[0m \u001b[1m1s\u001b[0m 20ms/step - accuracy: 0.8125 - loss: 2.1603 - val_accuracy: 0.8125 - val_loss: 2.2312\n",
      "Epoch 33/50\n",
      "\u001b[1m19/19\u001b[0m \u001b[32m━━━━━━━━━━━━━━━━━━━━\u001b[0m\u001b[37m\u001b[0m \u001b[1m6s\u001b[0m 301ms/step - accuracy: 0.7687 - loss: 2.1427 - val_accuracy: 0.7812 - val_loss: 2.1986\n",
      "Epoch 34/50\n",
      "\u001b[1m19/19\u001b[0m \u001b[32m━━━━━━━━━━━━━━━━━━━━\u001b[0m\u001b[37m\u001b[0m \u001b[1m1s\u001b[0m 20ms/step - accuracy: 0.8750 - loss: 2.0580 - val_accuracy: 0.7969 - val_loss: 2.1958\n",
      "Epoch 35/50\n",
      "\u001b[1m19/19\u001b[0m \u001b[32m━━━━━━━━━━━━━━━━━━━━\u001b[0m\u001b[37m\u001b[0m \u001b[1m6s\u001b[0m 306ms/step - accuracy: 0.7984 - loss: 2.1002 - val_accuracy: 0.7969 - val_loss: 2.1777\n",
      "Epoch 36/50\n",
      "\u001b[1m19/19\u001b[0m \u001b[32m━━━━━━━━━━━━━━━━━━━━\u001b[0m\u001b[37m\u001b[0m \u001b[1m0s\u001b[0m 15ms/step - accuracy: 0.8438 - loss: 2.0504 - val_accuracy: 0.7969 - val_loss: 2.1786\n",
      "Epoch 37/50\n",
      "\u001b[1m19/19\u001b[0m \u001b[32m━━━━━━━━━━━━━━━━━━━━\u001b[0m\u001b[37m\u001b[0m \u001b[1m6s\u001b[0m 306ms/step - accuracy: 0.8045 - loss: 2.0689 - val_accuracy: 0.7812 - val_loss: 2.1728\n",
      "Epoch 38/50\n",
      "\u001b[1m19/19\u001b[0m \u001b[32m━━━━━━━━━━━━━━━━━━━━\u001b[0m\u001b[37m\u001b[0m \u001b[1m0s\u001b[0m 18ms/step - accuracy: 0.7812 - loss: 2.0772 - val_accuracy: 0.7812 - val_loss: 2.1712\n",
      "Epoch 39/50\n",
      "\u001b[1m19/19\u001b[0m \u001b[32m━━━━━━━━━━━━━━━━━━━━\u001b[0m\u001b[37m\u001b[0m \u001b[1m6s\u001b[0m 312ms/step - accuracy: 0.8231 - loss: 2.0555 - val_accuracy: 0.7969 - val_loss: 2.1323\n",
      "Epoch 40/50\n",
      "\u001b[1m19/19\u001b[0m \u001b[32m━━━━━━━━━━━━━━━━━━━━\u001b[0m\u001b[37m\u001b[0m \u001b[1m1s\u001b[0m 20ms/step - accuracy: 0.8750 - loss: 1.9478 - val_accuracy: 0.7969 - val_loss: 2.1298\n",
      "Epoch 41/50\n",
      "\u001b[1m19/19\u001b[0m \u001b[32m━━━━━━━━━━━━━━━━━━━━\u001b[0m\u001b[37m\u001b[0m \u001b[1m6s\u001b[0m 302ms/step - accuracy: 0.8022 - loss: 2.0098 - val_accuracy: 0.7969 - val_loss: 2.1171\n",
      "Epoch 42/50\n",
      "\u001b[1m19/19\u001b[0m \u001b[32m━━━━━━━━━━━━━━━━━━━━\u001b[0m\u001b[37m\u001b[0m \u001b[1m1s\u001b[0m 20ms/step - accuracy: 0.7812 - loss: 1.9982 - val_accuracy: 0.7969 - val_loss: 2.1149\n",
      "Epoch 43/50\n",
      "\u001b[1m19/19\u001b[0m \u001b[32m━━━━━━━━━━━━━━━━━━━━\u001b[0m\u001b[37m\u001b[0m \u001b[1m6s\u001b[0m 304ms/step - accuracy: 0.8488 - loss: 1.9555 - val_accuracy: 0.7500 - val_loss: 2.1114\n",
      "Epoch 44/50\n",
      "\u001b[1m19/19\u001b[0m \u001b[32m━━━━━━━━━━━━━━━━━━━━\u001b[0m\u001b[37m\u001b[0m \u001b[1m0s\u001b[0m 19ms/step - accuracy: 0.7812 - loss: 1.9722 - val_accuracy: 0.7500 - val_loss: 2.1069\n",
      "Epoch 45/50\n",
      "\u001b[1m19/19\u001b[0m \u001b[32m━━━━━━━━━━━━━━━━━━━━\u001b[0m\u001b[37m\u001b[0m \u001b[1m6s\u001b[0m 315ms/step - accuracy: 0.8239 - loss: 1.9665 - val_accuracy: 0.7344 - val_loss: 2.0794\n",
      "Epoch 46/50\n",
      "\u001b[1m19/19\u001b[0m \u001b[32m━━━━━━━━━━━━━━━━━━━━\u001b[0m\u001b[37m\u001b[0m \u001b[1m0s\u001b[0m 19ms/step - accuracy: 0.8750 - loss: 1.8596 - val_accuracy: 0.7344 - val_loss: 2.0783\n",
      "Epoch 47/50\n",
      "\u001b[1m19/19\u001b[0m \u001b[32m━━━━━━━━━━━━━━━━━━━━\u001b[0m\u001b[37m\u001b[0m \u001b[1m6s\u001b[0m 314ms/step - accuracy: 0.8876 - loss: 1.8632 - val_accuracy: 0.7656 - val_loss: 2.0759\n",
      "Epoch 48/50\n",
      "\u001b[1m19/19\u001b[0m \u001b[32m━━━━━━━━━━━━━━━━━━━━\u001b[0m\u001b[37m\u001b[0m \u001b[1m0s\u001b[0m 19ms/step - accuracy: 0.6250 - loss: 2.2917 - val_accuracy: 0.7656 - val_loss: 2.0748\n",
      "Epoch 49/50\n",
      "\u001b[1m19/19\u001b[0m \u001b[32m━━━━━━━━━━━━━━━━━━━━\u001b[0m\u001b[37m\u001b[0m \u001b[1m6s\u001b[0m 308ms/step - accuracy: 0.8520 - loss: 1.9030 - val_accuracy: 0.7656 - val_loss: 2.0679\n",
      "Epoch 50/50\n",
      "\u001b[1m19/19\u001b[0m \u001b[32m━━━━━━━━━━━━━━━━━━━━\u001b[0m\u001b[37m\u001b[0m \u001b[1m0s\u001b[0m 18ms/step - accuracy: 0.9375 - loss: 1.8181 - val_accuracy: 0.7656 - val_loss: 2.0675\n"
     ]
    }
   ],
   "source": [
    "# You already defined train_gen and val_gen\n",
    "\n",
    "# You can dynamically get steps per epoch like this (optional):\n",
    "steps_per_epoch = train_gen.samples // train_gen.batch_size\n",
    "validation_steps = val_gen.samples // val_gen.batch_size\n",
    "\n",
    "# Training\n",
    "history = model.fit(\n",
    "    train_gen,\n",
    "    steps_per_epoch=steps_per_epoch,  # or simply 150 if fixed\n",
    "    epochs=50,\n",
    "    validation_data=val_gen,\n",
    "    validation_steps=validation_steps,\n",
    "    callbacks=[early_stopping]\n",
    ")\n"
   ]
  },
  {
   "cell_type": "code",
   "execution_count": 31,
   "metadata": {},
   "outputs": [
    {
     "name": "stdout",
     "output_type": "stream",
     "text": [
      "Overall Training Accuracy: 0.7333192133903503\n",
      "Overall Validation Accuracy: 0.7384375\n"
     ]
    }
   ],
   "source": [
    "train_loss = history.history['loss']\n",
    "train_accuracy = history.history['accuracy']\n",
    "val_loss = history.history['val_loss']\n",
    "val_accuracy = history.history['val_accuracy']\n",
    "overall_train_loss     = np.mean(train_loss)\n",
    "overall_train_accuracy = np.mean(train_accuracy)\n",
    "overall_val_loss       = np.mean(val_loss)\n",
    "overall_val_accuracy   = np.mean(val_accuracy)\n",
    "\n",
    "# Print the overall accuracy\n",
    "print(\"Overall Training Accuracy:\", overall_train_accuracy)\n",
    "print(\"Overall Validation Accuracy:\", overall_val_accuracy)\n"
   ]
  },
  {
   "cell_type": "code",
   "execution_count": 32,
   "metadata": {},
   "outputs": [
    {
     "data": {
      "image/png": "[encoded data removed]",
      "text/plain": [
       "<Figure size 1000x500 with 1 Axes>"
      ]
     },
     "metadata": {},
     "output_type": "display_data"
    }
   ],
   "source": [
    "\n",
    "plt.figure(figsize=(10, 5))\n",
    "plt.plot(train_loss, label='Training Loss',   color='blue')\n",
    "plt.plot(val_loss,   label='Validation Loss', color='red')\n",
    "plt.title('Training and Validation Loss')\n",
    "plt.xlabel('Epoch')\n",
    "plt.ylabel('Loss')\n",
    "plt.legend()\n",
    "plt.show()\n"
   ]
  },
  {
   "cell_type": "code",
   "execution_count": 34,
   "metadata": {},
   "outputs": [
    {
     "data": {
      "image/png": "[encoded data removed]",
      "text/plain": [
       "<Figure size 1000x500 with 1 Axes>"
      ]
     },
     "metadata": {},
     "output_type": "display_data"
    }
   ],
   "source": [
    "\n",
    "plt.figure(figsize=(10, 5))\n",
    "plt.plot(train_accuracy, label='Training Accuracy',   color='blue')\n",
    "plt.plot(val_accuracy,   label='Validation Accuracy', color='red')\n",
    "plt.title('Training and Validation Accuracy')\n",
    "plt.xlabel('Epoch')\n",
    "plt.ylabel('Accuracy')\n",
    "plt.legend()\n",
    "plt.show()"
   ]
  },
  {
   "cell_type": "code",
   "execution_count": 35,
   "metadata": {},
   "outputs": [
    {
     "name": "stdout",
     "output_type": "stream",
     "text": [
      "\u001b[1m3/3\u001b[0m \u001b[32m━━━━━━━━━━━━━━━━━━━━\u001b[0m\u001b[37m\u001b[0m \u001b[1m2s\u001b[0m 904ms/step - accuracy: 0.7588 - loss: 2.1027\n",
      "Test Accuracy: 0.7051, Test Loss: 2.1750\n"
     ]
    }
   ],
   "source": [
    "# Evaluate\n",
    "test_loss, test_acc = model.evaluate(test_gen)\n",
    "print(f\"Test Accuracy: {test_acc:.4f}, Test Loss: {test_loss:.4f}\")\n"
   ]
  },
  {
   "cell_type": "code",
   "execution_count": 37,
   "metadata": {},
   "outputs": [
    {
     "name": "stderr",
     "output_type": "stream",
     "text": [
      "WARNING:absl:You are saving your model as an HDF5 file via `model.save()` or `keras.saving.save_model(model)`. This file format is considered legacy. We recommend using instead the native Keras format, e.g. `model.save('my_model.keras')` or `keras.saving.save_model(model, 'my_model.keras')`. \n"
     ]
    }
   ],
   "source": [
    "model.save(\"/home/hamza/Downloads/final_model_using_claass_weights.h5\")"
   ]
  },
  {
   "cell_type": "code",
   "execution_count": 36,
   "metadata": {},
   "outputs": [
    {
     "name": "stdout",
     "output_type": "stream",
     "text": [
      "\u001b[1m3/3\u001b[0m \u001b[32m━━━━━━━━━━━━━━━━━━━━\u001b[0m\u001b[37m\u001b[0m \u001b[1m5s\u001b[0m 1s/step\n",
      "Classification Report:\n",
      "              precision    recall  f1-score   support\n",
      "\n",
      "      Benign       0.65      0.87      0.75        39\n",
      "   Malignant       0.81      0.54      0.65        39\n",
      "\n",
      "    accuracy                           0.71        78\n",
      "   macro avg       0.73      0.71      0.70        78\n",
      "weighted avg       0.73      0.71      0.70        78\n",
      "\n"
     ]
    },
    {
     "data": {
      "image/png": "[encoded data removed]",
      "text/plain": [
       "<Figure size 600x500 with 2 Axes>"
      ]
     },
     "metadata": {},
     "output_type": "display_data"
    }
   ],
   "source": [
    "import numpy as np\n",
    "from sklearn.metrics import classification_report, confusion_matrix\n",
    "import matplotlib.pyplot as plt\n",
    "import seaborn as sns\n",
    "\n",
    "# Step 1: Predict the test set\n",
    "Y_pred = model.predict(test_gen, verbose=1)\n",
    "y_pred = np.argmax(Y_pred, axis=1)\n",
    "\n",
    "# Step 2: Get true labels\n",
    "y_true = test_gen.classes\n",
    "\n",
    "# Step 3: Class labels\n",
    "class_labels = list(test_gen.class_indices.keys())\n",
    "\n",
    "# Step 4: Print classification report\n",
    "print(\"Classification Report:\")\n",
    "print(classification_report(y_true, y_pred, target_names=class_labels))\n",
    "\n",
    "# Step 5: Compute confusion matrix\n",
    "cm = confusion_matrix(y_true, y_pred)\n",
    "\n",
    "# Step 6: Plot confusion matrix\n",
    "plt.figure(figsize=(6, 5))\n",
    "sns.heatmap(cm, annot=True, fmt=\"d\", cmap=\"Blues\", xticklabels=class_labels, yticklabels=class_labels)\n",
    "plt.xlabel(\"Predicted Labels\")\n",
    "plt.ylabel(\"True Labels\")\n",
    "plt.title(\"Confusion Matrix\")\n",
    "plt.tight_layout()\n",
    "plt.show()\n"
   ]
  },
  {
   "cell_type": "code",
   "execution_count": 11,
   "metadata": {},
   "outputs": [
    {
     "name": "stdout",
     "output_type": "stream",
     "text": [
      "TensorFlow session cleared.\n"
     ]
    }
   ],
   "source": [
    "from tensorflow.keras.backend import clear_session\n",
    "\n",
    "# Clear TensorFlow session\n",
    "clear_session()\n",
    "print(\"TensorFlow session cleared.\")"
   ]
  },
  {
   "cell_type": "code",
   "execution_count": 12,
   "metadata": {},
   "outputs": [
    {
     "name": "stderr",
     "output_type": "stream",
     "text": [
      "WARNING:absl:Compiled the loaded model, but the compiled metrics have yet to be built. `model.compile_metrics` will be empty until you train or evaluate the model.\n"
     ]
    }
   ],
   "source": [
    "from tensorflow.keras.models import load_model\n",
    "from tensorflow.keras.optimizers import Adam\n",
    "from tensorflow.keras.callbacks import EarlyStopping\n",
    "\n",
    "# Load the model (update the path to your file)\n",
    "model = load_model(\"/home/hamza/Desktop/final files/public_dataset_colab.h5\")\n",
    "\n",
    "# Compile the model\n",
    "initial_learning_rate = 0.00001\n",
    "model.compile(\n",
    "    optimizer=Adam(learning_rate=initial_learning_rate),\n",
    "    loss='categorical_crossentropy',\n",
    "    metrics=['accuracy']\n",
    ")\n",
    "\n",
    "# Early stopping\n",
    "early_stopping = EarlyStopping(monitor='val_loss', patience=15, restore_best_weights=True)\n"
   ]
  },
  {
   "cell_type": "code",
   "execution_count": 13,
   "metadata": {},
   "outputs": [
    {
     "name": "stdout",
     "output_type": "stream",
     "text": [
      "WARNING:tensorflow:5 out of the last 7 calls to <function TensorFlowTrainer.make_predict_function.<locals>.one_step_on_data_distributed at 0x758ad079ff60> triggered tf.function retracing. Tracing is expensive and the excessive number of tracings could be due to (1) creating @tf.function repeatedly in a loop, (2) passing tensors with different shapes, (3) passing Python objects instead of tensors. For (1), please define your @tf.function outside of the loop. For (2), @tf.function has reduce_retracing=True option that can avoid unnecessary retracing. For (3), please refer to https://www.tensorflow.org/guide/function#controlling_retracing and https://www.tensorflow.org/api_docs/python/tf/function for  more details.\n"
     ]
    },
    {
     "name": "stderr",
     "output_type": "stream",
     "text": [
      "WARNING:tensorflow:5 out of the last 7 calls to <function TensorFlowTrainer.make_predict_function.<locals>.one_step_on_data_distributed at 0x758ad079ff60> triggered tf.function retracing. Tracing is expensive and the excessive number of tracings could be due to (1) creating @tf.function repeatedly in a loop, (2) passing tensors with different shapes, (3) passing Python objects instead of tensors. For (1), please define your @tf.function outside of the loop. For (2), @tf.function has reduce_retracing=True option that can avoid unnecessary retracing. For (3), please refer to https://www.tensorflow.org/guide/function#controlling_retracing and https://www.tensorflow.org/api_docs/python/tf/function for  more details.\n"
     ]
    },
    {
     "name": "stdout",
     "output_type": "stream",
     "text": [
      "\u001b[1m1/3\u001b[0m \u001b[32m━━━━━━\u001b[0m\u001b[37m━━━━━━━━━━━━━━\u001b[0m \u001b[1m5s\u001b[0m 3s/stepWARNING:tensorflow:6 out of the last 9 calls to <function TensorFlowTrainer.make_predict_function.<locals>.one_step_on_data_distributed at 0x758ad079ff60> triggered tf.function retracing. Tracing is expensive and the excessive number of tracings could be due to (1) creating @tf.function repeatedly in a loop, (2) passing tensors with different shapes, (3) passing Python objects instead of tensors. For (1), please define your @tf.function outside of the loop. For (2), @tf.function has reduce_retracing=True option that can avoid unnecessary retracing. For (3), please refer to https://www.tensorflow.org/guide/function#controlling_retracing and https://www.tensorflow.org/api_docs/python/tf/function for  more details.\n"
     ]
    },
    {
     "name": "stderr",
     "output_type": "stream",
     "text": [
      "WARNING:tensorflow:6 out of the last 9 calls to <function TensorFlowTrainer.make_predict_function.<locals>.one_step_on_data_distributed at 0x758ad079ff60> triggered tf.function retracing. Tracing is expensive and the excessive number of tracings could be due to (1) creating @tf.function repeatedly in a loop, (2) passing tensors with different shapes, (3) passing Python objects instead of tensors. For (1), please define your @tf.function outside of the loop. For (2), @tf.function has reduce_retracing=True option that can avoid unnecessary retracing. For (3), please refer to https://www.tensorflow.org/guide/function#controlling_retracing and https://www.tensorflow.org/api_docs/python/tf/function for  more details.\n"
     ]
    },
    {
     "name": "stdout",
     "output_type": "stream",
     "text": [
      "\u001b[1m3/3\u001b[0m \u001b[32m━━━━━━━━━━━━━━━━━━━━\u001b[0m\u001b[37m\u001b[0m \u001b[1m6s\u001b[0m 1s/step\n",
      "Classification Report:\n",
      "              precision    recall  f1-score   support\n",
      "\n",
      "      Benign       0.50      0.85      0.63        39\n",
      "   Malignant       0.50      0.15      0.24        39\n",
      "\n",
      "    accuracy                           0.50        78\n",
      "   macro avg       0.50      0.50      0.43        78\n",
      "weighted avg       0.50      0.50      0.43        78\n",
      "\n"
     ]
    },
    {
     "data": {
      "image/png": "[encoded data removed]",
      "text/plain": [
       "<Figure size 600x500 with 2 Axes>"
      ]
     },
     "metadata": {},
     "output_type": "display_data"
    }
   ],
   "source": [
    "import numpy as np\n",
    "from sklearn.metrics import classification_report, confusion_matrix\n",
    "import matplotlib.pyplot as plt\n",
    "import seaborn as sns\n",
    "\n",
    "# Step 1: Predict the test set\n",
    "Y_pred = model.predict(test_gen, verbose=1)\n",
    "y_pred = np.argmax(Y_pred, axis=1)\n",
    "\n",
    "# Step 2: Get true labels\n",
    "y_true = test_gen.classes\n",
    "\n",
    "# Step 3: Class labels\n",
    "class_labels = list(test_gen.class_indices.keys())\n",
    "\n",
    "# Step 4: Print classification report\n",
    "print(\"Classification Report:\")\n",
    "print(classification_report(y_true, y_pred, target_names=class_labels))\n",
    "\n",
    "# Step 5: Compute confusion matrix\n",
    "cm = confusion_matrix(y_true, y_pred)\n",
    "\n",
    "# Step 6: Plot confusion matrix\n",
    "plt.figure(figsize=(6, 5))\n",
    "sns.heatmap(cm, annot=True, fmt=\"d\", cmap=\"Blues\", xticklabels=class_labels, yticklabels=class_labels)\n",
    "plt.xlabel(\"Predicted Labels\")\n",
    "plt.ylabel(\"True Labels\")\n",
    "plt.title(\"Confusion Matrix\")\n",
    "plt.tight_layout()\n",
    "plt.show()\n"
   ]
  }
 ],
 "metadata": {
  "kernelspec": {
   "display_name": "tf",
   "language": "python",
   "name": "python3"
  },
  "language_info": {
   "codemirror_mode": {
    "name": "ipython",
    "version": 3
   },
   "file_extension": ".py",
   "mimetype": "text/x-python",
   "name": "python",
   "nbconvert_exporter": "python",
   "pygments_lexer": "ipython3",
   "version": "3.12.7"
  }
 },
 "nbformat": 4,
 "nbformat_minor": 2
}
